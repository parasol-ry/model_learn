{
 "cells": [
  {
   "cell_type": "code",
   "execution_count": 1,
   "metadata": {},
   "outputs": [],
   "source": [
    "import json"
   ]
  },
  {
   "cell_type": "code",
   "execution_count": 2,
   "metadata": {},
   "outputs": [],
   "source": [
    "with open(\"data/train.jsonl\") as f:\n",
    "    data = [json.loads(line) for line in f]"
   ]
  },
  {
   "cell_type": "code",
   "execution_count": 3,
   "metadata": {},
   "outputs": [],
   "source": [
    "from latain.core import Block"
   ]
  },
  {
   "cell_type": "code",
   "execution_count": 17,
   "metadata": {},
   "outputs": [],
   "source": [
    "block = Block.from_dict(data[4])"
   ]
  },
  {
   "cell_type": "code",
   "execution_count": 18,
   "metadata": {},
   "outputs": [
    {
     "name": "stdout",
     "output_type": "stream",
     "text": [
      "目前职位概况\t\n",
      "公司名称:\t北京蓝色光标品牌管理顾问股份有限公司\t\n",
      "所任职位:\t会计\t\n",
      "所在行业:\t广告/公关/巿场推广/会展\t\n",
      "工作地点:\t北京\t\n",
      "目前年薪:\t保密\t\n",
      "工作经历\t\n",
      "2016.03 -至今\t北京蓝色光标品牌管理顾问股份有限公司\t\n",
      "会计\t\n",
      "-所在地区:北京\t\n",
      "-下属人数:1人\t\n",
      "-职责业绩:\t\n",
      "1.统筹公司资金,为管理层出具资金报表o分析资金流动,预计现金流情况o\t\n",
      "2.负责所属税务申报,汇算清缴,跟进最新税务政策;同时负责工商变更,注销,统计年\t\n",
      "报等工作o\t\n",
      "3.审核合同,及应收/应付/费用账务处理o\t\n",
      "4.核对应收,应付,费用的全部工作,安排财务结账时间;同时完成业财一致相关工作\t\n",
      "(OA,oracle,HFM)\t\n",
      "5出具(更新)财务报销各项费用具体制度,完成制度的演讲o\t\n",
      "6.统计应收欠款,为各个业务组催款做准备o\t\n",
      "7.对公司日常经营业务,从财务角度为业务人员提出意见和支持,提供最优的选择o\t\n",
      "8.配合各个部内及领导层制定各部内预算o\t\n",
      "9.出具法人报表,合并报表,核对关联交易,提供费用预算,配合审计工作o\t\n",
      "2015.03 -\t云南沃林普顿药业有限公司\t\n",
      "2016.02\t\n",
      "会计\t\n",
      "-所在地区:昆明\t\n",
      "-下属人数:0人\t\n",
      "-职责业绩:\t\n",
      "1.主要是用用友erp软件负责与供应商的往来核算,完成凭证录入o\t\n",
      "2.组织仓库盘点工作,完成盘库情况报告o\t\n",
      "3.每月根据公司的出入库情况来编往来款明细帐,与供应商和客户进行核对o\t\n",
      "4.每月完成与相关公司的对账与开票o\t\n",
      "5.审核原始单据,填制记帐凭证,登记明细帐和总帐o\t\n",
      "6.利用Excel完成月底各相关报表与分析o\t\n",
      "7.按照国家有关现金管理和银行结算制度的规定,办理现金收付业务和银行结算业务o\t\n",
      "8.购买,保管,开具增值税专用发票和普通发票o\t\n",
      "9.登记现金账和银行账,编制银行余额调节表,做到账证相符,账账相符,日清月结o\t\n",
      "10.管理公司的支票,电汇,银行承兑汇票等等票据o\t\n",
      "11.负责账目和凭证的装订和保管o\t\n",
      "\n"
     ]
    }
   ],
   "source": [
    "block_text = \"\"\n",
    "for line in block:\n",
    "    line_text = \"\"\n",
    "    for span in line:\n",
    "        line_text += span.text + \"\\t\"\n",
    "    block_text += line_text + \"\\n\"\n",
    "print(block_text)"
   ]
  },
  {
   "cell_type": "code",
   "execution_count": 10,
   "metadata": {},
   "outputs": [
    {
     "name": "stderr",
     "output_type": "stream",
     "text": [
      "/home/www/miniconda3/envs/simpletrainer/lib/python3.8/site-packages/tqdm/auto.py:22: TqdmWarning: IProgress not found. Please update jupyter and ipywidgets. See https://ipywidgets.readthedocs.io/en/stable/user_install.html\n",
      "  from .autonotebook import tqdm as notebook_tqdm\n"
     ]
    }
   ],
   "source": [
    "import torch\n",
    "import torch.nn as nn\n",
    "from torch import Tensor\n",
    "\n",
    "\n",
    "class CommLayer(nn.Module):\n",
    "\n",
    "    def __init__(self, hidden_size: int):\n",
    "        super().__init__()\n",
    "        #self.linear = nn.Linear(hidden_size, hidden_size)\n",
    "        # self.dropout = nn.Dropout(dropout)\n",
    "        # self.layerNorm = nn.LayerNorm(hidden_size)\n",
    "\n",
    "    def forward(self, hidden_states: Tensor, comm_matrix: Tensor) -> Tensor:\n",
    "        # hidden_states: (batch_size, num_item, hidden_size)\n",
    "        # comm_matrix: (batch_size, num_item, num_item)\n",
    "        # X: (batch_size, num_item, hidden_size)\n",
    "        #X = self.linear(hidden_states)\n",
    "        X = hidden_states\n",
    "        # \n",
    "        X = torch.bmm(comm_matrix, X)\n",
    "        X = hidden_states + X\n",
    "        return X\n"
   ]
  },
  {
   "cell_type": "code",
   "execution_count": 11,
   "metadata": {},
   "outputs": [],
   "source": [
    "cl = CommLayer(3)"
   ]
  },
  {
   "cell_type": "code",
   "execution_count": 12,
   "metadata": {},
   "outputs": [],
   "source": [
    "h = torch.randn(1, 2, 3)\n",
    "c = torch.tensor([[.2, .8], [.3, .7]]).unsqueeze(0)"
   ]
  },
  {
   "cell_type": "code",
   "execution_count": 13,
   "metadata": {},
   "outputs": [
    {
     "data": {
      "text/plain": [
       "tensor([[[ 2.3166, -1.7714, -1.8924],\n",
       "         [ 1.9441, -2.8346, -0.2883]]])"
      ]
     },
     "execution_count": 13,
     "metadata": {},
     "output_type": "execute_result"
    }
   ],
   "source": [
    "cl(h, c)"
   ]
  },
  {
   "cell_type": "code",
   "execution_count": 14,
   "metadata": {},
   "outputs": [
    {
     "data": {
      "text/plain": [
       "tensor([ 2.3166, -1.7714, -1.8924])"
      ]
     },
     "execution_count": 14,
     "metadata": {},
     "output_type": "execute_result"
    }
   ],
   "source": [
    "h[0, 0, :] * 0.2 + h[0, 1, :] * 0.8 + h[0,0,:]"
   ]
  },
  {
   "cell_type": "code",
   "execution_count": 15,
   "metadata": {},
   "outputs": [
    {
     "data": {
      "text/plain": [
       "tensor([[ 1.3238, -0.4131, -1.6592],\n",
       "        [ 0.9100, -1.5945,  0.1232]])"
      ]
     },
     "execution_count": 15,
     "metadata": {},
     "output_type": "execute_result"
    }
   ],
   "source": [
    "h.squeeze(0)"
   ]
  },
  {
   "cell_type": "code",
   "execution_count": null,
   "metadata": {},
   "outputs": [],
   "source": []
  },
  {
   "cell_type": "code",
   "execution_count": null,
   "metadata": {},
   "outputs": [],
   "source": []
  },
  {
   "cell_type": "code",
   "execution_count": 16,
   "metadata": {},
   "outputs": [
    {
     "name": "stdout",
     "output_type": "stream",
     "text": [
      "\n",
      "\n",
      "\n",
      "\n",
      "\n",
      "\n",
      "\n",
      "\n",
      "\n",
      "\n",
      "\n",
      "\n",
      "company|timeRange\n",
      "title\n",
      "\n",
      "\n",
      "\n",
      "\n",
      "\n",
      "\n",
      "\n",
      "\n",
      "\n",
      "\n",
      "\n",
      "\n",
      "\n",
      "\n",
      "\n",
      "\n",
      "\n",
      "\n",
      "\n",
      "\n",
      "company|timeRange\n",
      "title\n",
      "\n",
      "\n",
      "\n",
      "\n",
      "\n",
      "\n",
      "\n",
      "\n",
      "\n",
      "\n",
      "\n",
      "\n",
      "\n",
      "company|timeRange\n",
      "title\n",
      "\n",
      "\n",
      "\n",
      "\n",
      "\n",
      "\n",
      "\n",
      "\n",
      "\n",
      "\n",
      "\n",
      "\n",
      "\n",
      "\n",
      "\n",
      "\n",
      "\n",
      "\n",
      "\n",
      "\n",
      "\n",
      "\n",
      "\n"
     ]
    }
   ],
   "source": [
    "for line in block:\n",
    "    for span in line:\n",
    "        print(span.tag)"
   ]
  }
 ],
 "metadata": {
  "interpreter": {
   "hash": "ad3bbeed7cce8b3dac285ccd8a919d67e6bfbb371ec13871e5c4d970344bad87"
  },
  "kernelspec": {
   "display_name": "Python 3.8.10 ('base')",
   "language": "python",
   "name": "python3"
  },
  "language_info": {
   "codemirror_mode": {
    "name": "ipython",
    "version": 3
   },
   "file_extension": ".py",
   "mimetype": "text/x-python",
   "name": "python",
   "nbconvert_exporter": "python",
   "pygments_lexer": "ipython3",
   "version": "3.8.13"
  },
  "orig_nbformat": 4
 },
 "nbformat": 4,
 "nbformat_minor": 2
}
