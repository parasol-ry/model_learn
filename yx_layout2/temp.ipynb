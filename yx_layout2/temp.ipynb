{
 "cells": [
  {
   "cell_type": "code",
   "execution_count": 1,
   "metadata": {},
   "outputs": [],
   "source": [
    "import pickle\n",
    "from latain.comm.data import CommCollator"
   ]
  },
  {
   "cell_type": "code",
   "execution_count": 2,
   "metadata": {},
   "outputs": [],
   "source": [
    "with open(\"data/comm_records_v2.pkl\", \"rb\") as f:\n",
    "    records = pickle.load(f)"
   ]
  },
  {
   "cell_type": "code",
   "execution_count": 3,
   "metadata": {},
   "outputs": [],
   "source": [
    "tags = [\"O\", \"timeRange\", \"company\", \"title\", \"depart\", \"area\", \"salary\"]\n",
    "collator = CommCollator(tags, 64)"
   ]
  },
  {
   "cell_type": "code",
   "execution_count": 4,
   "metadata": {},
   "outputs": [],
   "source": [
    "from moka_tokenizer import moka_codec"
   ]
  },
  {
   "cell_type": "code",
   "execution_count": 5,
   "metadata": {},
   "outputs": [],
   "source": [
    "batch = collator([records[1]])"
   ]
  },
  {
   "cell_type": "code",
   "execution_count": 6,
   "metadata": {},
   "outputs": [
    {
     "name": "stdout",
     "output_type": "stream",
     "text": [
      "0\t最近工作\n",
      "1\t最高学历/学位\n",
      "2\t职位:\n",
      "3\t行政人事专员/助理\n",
      "4\t专业:\n",
      "5\t计算机应用\n",
      "6\t公司:\n",
      "7\t大苑子企业管理咨询(上海)有限公司\n",
      "8\t学校:\n",
      "9\t苏州五二六技校\n",
      "10\t行业:\n",
      "11\t快速消费品(食品,饮料,化妆品)\n",
      "12\t学历/学位:\n",
      "13\t中专\n",
      "14\t工作经验\n",
      "15\t2017/4-至今\n",
      "16\t行政人事专员/助理|行政管理部\n",
      "17\t大苑子企业管理咨询(上海)有限公司[ 2年1个月]\n",
      "18\t快速消费品(食品,饮料,化妆品) | 50-150人|外资(欧美)\n",
      "19\t工作描述:\n",
      "20\t1.负责公司会议室管理,使用,维护\n",
      "21\t2.负责办公室采购,入库,领用\n",
      "22\t3.负责办公室办公用品维护,保修\n",
      "23\t4.负责上海总部的员工花名册,档案管理,员工入职,离职手续办理\n",
      "24\t5.负责3个招聘网站管理\n",
      "25\t6.负责每月员工考勤,工资初步计算\n",
      "26\t7.负责公司所有合同管理\n",
      "27\t8.负责台湾全球会议及加盟商的会议事宜\n",
      "28\t5.负责台湾总部的文件签核,录入,归档\n",
      "29\t9.负责意向加盟者的电话和后期追踪\n",
      "30\t10.负责公司内店的日常报表及销售情况\n",
      "31\t11.负责公司pos,erp,微会员的系统管理\n",
      "32\t离职原因:公司遣散\n",
      "33\t2015/1-2017/3\n",
      "34\t总裁助理/行政人事专员|行政部\n",
      "35\t上海丰邦建材科技有限公司[ 2年2个月]\n",
      "36\t建筑/建材/工程| 50-150人|民营公司\n",
      "37\t工作描述:\n",
      "38\t人事行政助理工作:\n",
      "39\t1.负责每月考勤统计及结算工资,各类请假的统计,审批o\n",
      "40\t2.负责员工的档案归类,入职,离职的手续办理o\n",
      "41\t3.负责对新员工进行企业制度与文化的培训工作,建立企业的形象o\n",
      "42\t4.负责对公司合作的招聘网站的管理,进行招聘,初试及安排上班o\n",
      "43\t5.负责按照领导要求修改或拟定企业的行政,人事制度o\n",
      "44\t6.负责公司的办公用品及日用品的申购,入库和发放,申报采购款o\n",
      "45\t7.负责公司各类文件,资料下发,张贴及登记归档o\n",
      "46\t8.负责后勤车辆的管理,钥匙保管,记录车辆的违章,保险及验车情况o\n",
      "47\t9.负责相关部门的申请款费,报销,统计o\n",
      "48\t10.负责公司宿舍的安排入住及监督卫生o\n",
      "49\t总裁行政助理:\n",
      "50\t1.负责公司的各类会议的安排及通知工作o\n",
      "51\t2.负责与各分公司的对接工作,配合各分公司所需要的资料o\n",
      "52\t3.负责给公司员工和各公司的节日礼品发放和邮寄o\n",
      "53\t4.负责总裁办公室的卫生打扫及衣物日用品管理o\n",
      "54\t5.负责召开的股东大会的所有行政事项,如酒店预订,车辆安排,人员入住...........\n",
      "55\t6.负责公司资质的对接及所需要的文件整理o\n",
      "56\t7.负责总裁交待的所有事项o\n",
      "57\t离职原因:拖欠工资和社保\n",
      "58\t2013/12-2014/12\n",
      "59\t店经理(红酒)|店经理\n",
      "60\t上海乐石贸易有限公司[ 1年]\n",
      "61\t贸易/进出口|民营公司\n",
      "62\t工作描述:\n",
      "63\t1.负责规划每月店里的销售目标和制度管理o\n",
      "64\t2.负责店铺的库存,进货和销货的管理o\n",
      "65\t3.负责安排所有重要客户吃饭,住宿和接待o\n",
      "66\t4.负责制定店铺员工的奖惩制度,人事制度o\n",
      "67\t5.负责每月的店铺销售报表,社保及各资质办理o\n",
      "68\t6.完成老板交待的所有事项o\n",
      "69\t下属人数:6人|离职原因:因公司搬至上海巿区,路程不便\n",
      "70\t2011/9-2013/10\n",
      "71\t泊美专柜小姐|销售\n",
      "72\t资生堂上海有限公司[ 2年1个月]\n",
      "73\t快速消费品(食品,饮料,化妆品) | 150-500人|合资\n",
      "74\t工作描述:\n",
      "75\t1.负责每月店铺销售及完成店铺指标o\n",
      "76\t2.负责每天店铺的卫生及营业准备事项o\n",
      "77\t3.负责每月的陈列工作o\n",
      "78\t离职原因:因品牌卖给第三方经营\n",
      "79\t2006/8-2010/1\n",
      "80\tdior专柜小姐|销售\n",
      "81\tlvmh香水化妆品(上海)有限公司[ 3年5个月]\n",
      "82\t奢侈品/收藏品/工艺品/珠宝| 500-1000人|合资\n",
      "83\t工作描述:\n",
      "84\t1.负责完成每月的集体指标o\n",
      "85\t2.负责每天的店铺卫生及准备工作o\n",
      "86\t3.负责店铺的每月盘点及报表制作o\n",
      "87\t4.负责每天的新老客户的回访工作o\n",
      "88\t5.负责彩妆方面的管理o\n",
      "89\t6.需要出差到各地,协助各柜台的促销活动o\n",
      "90\t教育经历\n",
      "91\t2004/9-2007/6\n",
      "92\t苏州五二六技校\n"
     ]
    }
   ],
   "source": [
    "for idx, span in enumerate(records[1].spans):\n",
    "    span_text = \"\".join(span.tokens)\n",
    "    print(f\"{idx}\\t{span_text}\")"
   ]
  },
  {
   "cell_type": "code",
   "execution_count": 10,
   "metadata": {},
   "outputs": [
    {
     "name": "stdout",
     "output_type": "stream",
     "text": [
      "span_text:\n",
      "<CLS> 店经理 ( 红酒 ) | 店经理 <SEP>\n",
      "span_tag_text:\n",
      " title title title title title title title title depart depart depart                                   \n",
      "0.32451155967520884\n",
      "<CLS> 行政人事专员 / 助理 | 行政管理部 <SEP>\n",
      "0.3030337525353308\n",
      "<CLS> 总裁助理 / 行政人事专员 | 行政部 <SEP>\n",
      "0.2672879420321419\n",
      "<CLS> 泊美专柜小姐 | 销售 <SEP>\n"
     ]
    }
   ],
   "source": [
    "span_idx = 59\n",
    "span_tokens = batch[\"input_ids\"][span_idx]\n",
    "span_text = moka_codec.decode([i for i in span_tokens if i])\n",
    "span_tags = batch[\"tags\"][span_idx]\n",
    "span_tag_text = \" \".join(collator.int2tag(i) if i != -100 else \"\" for i in span_tags)\n",
    "\n",
    "similar_span_idx = batch[\"comm_matrix\"][span_idx].argsort(descending=True)[:3].tolist()\n",
    "similar_scores = [batch[\"comm_matrix\"][span_idx][i].item() for i in similar_span_idx]\n",
    "\n",
    "print(f\"span_text:\\n{span_text}\")\n",
    "print(f\"span_tag_text:\\n{span_tag_text}\")\n",
    "for score, idx in zip(similar_scores, similar_span_idx):\n",
    "    span_tokens = batch[\"input_ids\"][idx]\n",
    "    span_text = moka_codec.decode([i for i in span_tokens if i])\n",
    "    print(score)\n",
    "    print(span_text)"
   ]
  },
  {
   "cell_type": "code",
   "execution_count": 26,
   "metadata": {},
   "outputs": [
    {
     "data": {
      "text/plain": [
       "[0.96162059540844, 0.9289525850240321, 0.9252234969532699]"
      ]
     },
     "execution_count": 26,
     "metadata": {},
     "output_type": "execute_result"
    }
   ],
   "source": [
    "similar_span_idx\n",
    "similar_scores"
   ]
  },
  {
   "cell_type": "code",
   "execution_count": 27,
   "metadata": {},
   "outputs": [],
   "source": [
    "comm_matrix = batch[\"comm_matrix\"]\n",
    "comm_matrix[comm_matrix < 0.1] = 0"
   ]
  },
  {
   "cell_type": "code",
   "execution_count": 28,
   "metadata": {},
   "outputs": [],
   "source": [
    "a = comm_matrix  / comm_matrix.sum(dim=-1)"
   ]
  },
  {
   "cell_type": "code",
   "execution_count": 29,
   "metadata": {},
   "outputs": [
    {
     "data": {
      "text/plain": [
       "[0.20531298888925456, 0.20121724671702607, 0.20026537538539838]"
      ]
     },
     "execution_count": 29,
     "metadata": {},
     "output_type": "execute_result"
    }
   ],
   "source": [
    "[a[span_idx][i].item() for i in similar_span_idx]"
   ]
  },
  {
   "cell_type": "code",
   "execution_count": 31,
   "metadata": {},
   "outputs": [
    {
     "data": {
      "text/plain": [
       "[33, 79, 70]"
      ]
     },
     "execution_count": 31,
     "metadata": {},
     "output_type": "execute_result"
    }
   ],
   "source": [
    "similar_span_idx"
   ]
  },
  {
   "cell_type": "code",
   "execution_count": 32,
   "metadata": {},
   "outputs": [
    {
     "name": "stdout",
     "output_type": "stream",
     "text": [
      "<CLS> 2 0 1 5 / 1 - 2 0 1 7 / 3 <SEP> <PAD> <PAD> <PAD> <PAD> <PAD> <PAD> <PAD> <PAD> <PAD> <PAD> <PAD> <PAD> <PAD> <PAD> <PAD> <PAD> <PAD> <PAD> <PAD> <PAD> <PAD> <PAD> <PAD> <PAD> <PAD> <PAD> <PAD> <PAD> <PAD> <PAD> <PAD> <PAD>\n",
      "<CLS> 2 0 0 6 / 8 - 2 0 1 0 / 1 <SEP> <PAD> <PAD> <PAD> <PAD> <PAD> <PAD> <PAD> <PAD> <PAD> <PAD> <PAD> <PAD> <PAD> <PAD> <PAD> <PAD> <PAD> <PAD> <PAD> <PAD> <PAD> <PAD> <PAD> <PAD> <PAD> <PAD> <PAD> <PAD> <PAD> <PAD> <PAD> <PAD>\n",
      "<CLS> 2 0 1 1 / 9 - 2 0 1 3 / 1 0 <SEP> <PAD> <PAD> <PAD> <PAD> <PAD> <PAD> <PAD> <PAD> <PAD> <PAD> <PAD> <PAD> <PAD> <PAD> <PAD> <PAD> <PAD> <PAD> <PAD> <PAD> <PAD> <PAD> <PAD> <PAD> <PAD> <PAD> <PAD> <PAD> <PAD> <PAD> <PAD>\n"
     ]
    }
   ],
   "source": [
    "for idx in similar_span_idx:\n",
    "    span_text = moka_codec.decode(batch[\"input_ids\"][idx])\n",
    "    print(span_text)"
   ]
  },
  {
   "cell_type": "code",
   "execution_count": 20,
   "metadata": {},
   "outputs": [
    {
     "data": {
      "text/plain": [
       "tensor([0.0000, 0.0000, 0.0000, 0.0000, 0.0000, 0.0000, 0.0000, 0.0000, 0.0000,\n",
       "        0.0000, 0.0000, 0.0000, 0.0000, 0.0000, 0.0000, 0.0000, 0.0000, 0.0000,\n",
       "        0.0000, 0.0000, 0.0000, 0.0000, 0.0000, 0.0000, 0.0000, 0.0000, 0.0000,\n",
       "        0.0679, 0.0000, 0.0000, 0.0000, 0.0000, 0.0000, 0.0000, 0.0000, 0.0000,\n",
       "        0.0681, 0.0000, 0.0000, 0.0000, 0.0000, 0.0000, 0.0000, 0.0000, 0.0000,\n",
       "        0.0000, 0.0000, 0.0000, 0.0000, 0.0000, 0.0000, 0.0000, 0.0676, 0.0000,\n",
       "        0.0000, 0.0000, 0.0000, 0.0000, 0.0000, 0.0000, 0.0671, 0.0000, 0.0000,\n",
       "        0.0000, 0.0000, 0.0000, 0.0000, 0.0000, 0.0000, 0.0000, 0.0000, 0.0000,\n",
       "        0.0000, 0.0000, 0.0674, 0.0000, 0.0000, 0.0000, 0.0000, 0.0000, 0.0000,\n",
       "        0.0672, 0.0000, 0.0000, 0.0000, 0.0000, 0.0000, 0.0000, 0.0673, 0.0000,\n",
       "        0.0000, 0.0000, 0.0000, 0.0000, 0.0000, 0.0000, 0.0000, 0.0000, 0.0000,\n",
       "        0.0000, 0.0000, 0.0000, 0.0000, 0.0000, 0.0000, 0.0000, 0.0000, 0.0000,\n",
       "        0.0000, 0.0000, 0.0669, 0.0000, 0.0000, 0.0000, 0.0000, 0.0000, 0.0000,\n",
       "        0.0000, 0.0000, 0.0000, 0.0000, 0.0682, 0.0000, 0.0000, 0.0000, 0.0000,\n",
       "        0.0000, 0.0000, 0.0000, 0.0675, 0.0000, 0.0000, 0.0000, 0.0000, 0.0000,\n",
       "        0.0000, 0.0000, 0.0000, 0.0000, 0.0000, 0.0000, 0.0000, 0.0000, 0.0000,\n",
       "        0.0000, 0.0673, 0.0000, 0.0000, 0.0000, 0.0000, 0.0000, 0.0000, 0.0000,\n",
       "        0.0671, 0.0000, 0.0000, 0.0000, 0.0000, 0.0000, 0.0000, 0.0000, 0.0000,\n",
       "        0.0000, 0.0000, 0.0000, 0.0000, 0.0000, 0.0680, 0.0000, 0.0000, 0.0000,\n",
       "        0.0000, 0.0000, 0.0000, 0.0674, 0.0000, 0.0000, 0.0000, 0.0000, 0.0000,\n",
       "        0.0000, 0.0673, 0.0000, 0.0000, 0.0000, 0.0000, 0.0000, 0.0000],\n",
       "       dtype=torch.float64)"
      ]
     },
     "execution_count": 20,
     "metadata": {},
     "output_type": "execute_result"
    }
   ],
   "source": [
    "a[span_idx]"
   ]
  },
  {
   "cell_type": "code",
   "execution_count": 33,
   "metadata": {},
   "outputs": [
    {
     "data": {
      "text/plain": [
       "tensor([1.0000, 1.0000, 1.0000, 1.0000, 1.0000, 1.0000, 1.0000, 1.0000, 1.0000,\n",
       "        1.0000, 1.0000, 1.0000, 1.0000, 1.0000, 1.0000, 1.0000, 1.0000, 1.0000,\n",
       "        1.0000, 1.0000, 1.0000, 1.0000, 1.0000, 1.0000, 1.0000, 1.0000, 1.0000,\n",
       "        1.0000, 1.0000, 1.0000, 1.0000, 1.0000, 1.0000, 1.0000, 1.0000, 1.0000,\n",
       "        1.0000, 1.0000, 1.0000, 1.0000, 1.0000, 1.0000, 1.0000, 1.0000, 1.0000,\n",
       "        1.0000, 1.0000, 1.0000, 1.0000, 1.0000, 1.0000, 1.0000, 1.0000, 1.0000,\n",
       "        1.0000, 1.0000, 1.0000, 1.0000, 1.0000, 1.0000, 1.0000, 1.0000, 1.0000,\n",
       "        1.0000, 1.0000, 1.0000, 1.0000, 1.0000, 1.0000, 1.0000, 1.0000, 1.0000,\n",
       "        1.0000, 1.0000, 1.0000, 1.0000, 1.0000, 1.0000, 1.0000, 1.0000, 1.0000,\n",
       "        1.0000, 1.0000, 1.0000, 1.0000, 1.0000, 1.0000, 1.0000, 1.0000, 1.0000,\n",
       "        1.0000, 1.0000, 1.0000, 1.0000, 1.0000, 1.0000, 1.0000, 1.0000, 1.0000,\n",
       "        1.0000, 1.0000, 1.0000, 1.0000, 1.0000, 1.0000, 1.0000, 1.0000, 1.0000,\n",
       "        1.0000, 1.0000, 1.0000, 1.0000, 1.0000, 1.0000, 1.0000, 1.0000, 1.0000,\n",
       "        1.0000, 1.0000, 1.0000, 1.0000, 1.0000, 1.0000, 1.0000, 1.0000, 1.0000,\n",
       "        1.0000, 1.0000, 1.0000, 1.0000, 1.0000, 1.0000, 1.0000, 1.0000, 1.0000,\n",
       "        1.0000, 1.0000, 1.0000, 1.0000, 1.0000, 1.0000, 1.0000, 1.0000, 1.0000,\n",
       "        1.0000, 1.0000, 1.0000, 1.0000, 1.0000, 1.0000, 1.0000, 1.0000, 1.0000,\n",
       "        1.0000, 1.0000, 1.0000, 1.0000, 1.0000, 1.0000, 1.0000, 1.0000, 1.0000,\n",
       "        1.0000, 1.0000, 1.0000, 1.0000, 1.0000, 1.0000, 1.0000, 1.0000, 1.0000,\n",
       "        1.0000, 1.0000, 1.0000, 1.0000, 1.0000, 1.0000, 1.0000, 1.0000, 1.0000,\n",
       "        1.0000, 1.0000, 1.0000, 1.0000, 1.0000, 1.0000, 1.0000, 1.0000],\n",
       "       dtype=torch.float64)"
      ]
     },
     "execution_count": 33,
     "metadata": {},
     "output_type": "execute_result"
    }
   ],
   "source": [
    "batch[\"comm_matrix\"].sum(dim=-1)"
   ]
  },
  {
   "cell_type": "code",
   "execution_count": 29,
   "metadata": {},
   "outputs": [
    {
     "data": {
      "text/plain": [
       "[110, 36, 121]"
      ]
     },
     "execution_count": 29,
     "metadata": {},
     "output_type": "execute_result"
    }
   ],
   "source": [
    "similar_span_idx"
   ]
  }
 ],
 "metadata": {
  "interpreter": {
   "hash": "ad3bbeed7cce8b3dac285ccd8a919d67e6bfbb371ec13871e5c4d970344bad87"
  },
  "kernelspec": {
   "display_name": "Python 3.8.10 ('base')",
   "language": "python",
   "name": "python3"
  },
  "language_info": {
   "codemirror_mode": {
    "name": "ipython",
    "version": 3
   },
   "file_extension": ".py",
   "mimetype": "text/x-python",
   "name": "python",
   "nbconvert_exporter": "python",
   "pygments_lexer": "ipython3",
   "version": "3.8.10"
  },
  "orig_nbformat": 4
 },
 "nbformat": 4,
 "nbformat_minor": 2
}
