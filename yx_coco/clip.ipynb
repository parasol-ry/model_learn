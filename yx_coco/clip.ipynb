{
 "cells": [
  {
   "cell_type": "code",
   "execution_count": 1,
   "metadata": {},
   "outputs": [],
   "source": [
    "from itertools import islice\n",
    "\n",
    "import torch\n",
    "import clip\n",
    "from tqdm import tqdm\n",
    "from datasets import load_from_disk, Sequence, Value, Features\n",
    "\n",
    "model, preprocess = clip.load(\"ViT-B/32\", device=\"cuda:1\")\n",
    "\n",
    "coco_dataset_dict = load_from_disk(\"/data/qiaowei/coco2014/coco_caption_arrow/\")\n",
    "coco_train_dataset, coco_valid_dataset = coco_dataset_dict.values()\n",
    "\n",
    "coca_features = Features(**coco_train_dataset.features, clip=Sequence(Value(\"float32\"), length=512))\n",
    "\n",
    "def get_batch(dataset, batch_size=32):\n",
    "    dataset = iter(dataset)\n",
    "    while batch := list(islice(dataset, batch_size)):\n",
    "        yield batch\n",
    "\n",
    "BATCH_SIZE = 32\n",
    "DATASET = coco_valid_dataset\n",
    "\n",
    "image_clip_encodes = []\n",
    "for records in tqdm(get_batch(coco_valid_dataset, BATCH_SIZE), total=len(DATASET) // BATCH_SIZE):\n",
    "    images = [i[\"image\"] for i in records]\n",
    "    processed_image = [preprocess(image).unsqueeze(0).to(\"cuda:1\") for image in images]\n",
    "    batch = torch.cat(processed_image, dim=0)\n",
    "    image_clip_encodes.extend(model.encode_image(batch).squeeze().tolist())\n",
    "coca_valid_dataset = coco_valid_dataset.add_column(\"clip\", image_clip_encodes).cast(coca_features)\n",
    "\n",
    "BATCH_SIZE = 32\n",
    "DATASET = coco_train_dataset\n",
    "\n",
    "image_clip_encodes = []\n",
    "for records in tqdm(get_batch(coco_train_dataset, BATCH_SIZE), total=len(DATASET) // BATCH_SIZE):\n",
    "    images = [i[\"image\"] for i in records]\n",
    "    processed_image = [preprocess(image).unsqueeze(0).to(\"cuda:1\") for image in images]\n",
    "    batch = torch.cat(processed_image, dim=0)\n",
    "    image_clip_encodes.extend(model.encode_image(batch).squeeze().tolist())\n",
    "coca_train_dataset = coco_train_dataset.add_column(\"clip\", image_clip_encodes).cast(coca_features)\n",
    "\n",
    "coca_dataset_dict = DatasetDict(train=coca_train_dataset, valid=coca_valid_dataset)\n",
    "coca_dataset_dict.save_to_disk(\"data/coca_arrow\")"
   ]
  },
  {
   "cell_type": "code",
   "execution_count": 5,
   "metadata": {},
   "outputs": [],
   "source": [
    "from datasets import Dataset, load_from_disk"
   ]
  },
  {
   "cell_type": "code",
   "execution_count": 3,
   "metadata": {},
   "outputs": [],
   "source": [
    "dt =Dataset.from_file(\"data/coca_train.arrow\")"
   ]
  },
  {
   "cell_type": "code",
   "execution_count": 7,
   "metadata": {},
   "outputs": [],
   "source": [
    "dt = load_from_disk(\"/data/qiaowei/coco2014/coco_caption_arrow/\")"
   ]
  },
  {
   "cell_type": "code",
   "execution_count": 8,
   "metadata": {},
   "outputs": [
    {
     "data": {
      "text/plain": [
       "Dataset({\n",
       "    features: ['image', 'caption'],\n",
       "    num_rows: 414113\n",
       "})"
      ]
     },
     "execution_count": 8,
     "metadata": {},
     "output_type": "execute_result"
    }
   ],
   "source": [
    "dt[\"train\"]"
   ]
  }
 ],
 "metadata": {
  "interpreter": {
   "hash": "ad3bbeed7cce8b3dac285ccd8a919d67e6bfbb371ec13871e5c4d970344bad87"
  },
  "kernelspec": {
   "display_name": "Python 3 (ipykernel)",
   "language": "python",
   "name": "python3"
  },
  "language_info": {
   "codemirror_mode": {
    "name": "ipython",
    "version": 3
   },
   "file_extension": ".py",
   "mimetype": "text/x-python",
   "name": "python",
   "nbconvert_exporter": "python",
   "pygments_lexer": "ipython3",
   "version": "3.8.10"
  }
 },
 "nbformat": 4,
 "nbformat_minor": 2
}
